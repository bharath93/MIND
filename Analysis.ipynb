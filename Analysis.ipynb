{
 "cells": [
  {
   "cell_type": "code",
   "execution_count": 15,
   "metadata": {},
   "outputs": [],
   "source": [
    "import os\n",
    "import pandas as pd\n",
    "import numpy as np\n",
    "import scipy\n",
    "import matplotlib.pyplot as plt\n",
    "from pathlib import Path"
   ]
  },
  {
   "cell_type": "code",
   "execution_count": 17,
   "metadata": {},
   "outputs": [],
   "source": [
    "path = Path.cwd()\n",
    "data_path = path /'data'\n",
    "train_path = data_path /'MINDsmall_train'"
   ]
  },
  {
   "cell_type": "code",
   "execution_count": 19,
   "metadata": {},
   "outputs": [],
   "source": [
    "behavior = pd.read_table(train_path/'behaviors.tsv',\n",
    "                         header=None,\n",
    "                         names=['impression_id', 'user_id', 'time', 'history', 'impressions'])\n",
    "\n",
    "news = pd.read_table(train_path/'news.tsv',\n",
    "                     header=None,\n",
    "                     names=['id', 'category', 'subcategory', 'title', 'abstract', 'url',\n",
    "                            'title_entities', 'abstract_entities'])\n",
    "\n",
    "\n",
    "entity_embedding = pd.read_table(train_path/'entity_embedding.vec', header=None)\n",
    "entity_embedding['vector'] = entity_embedding.iloc[:, 1:101].values.tolist()\n",
    "entity_embedding = entity_embedding[[0, 'vector']].rename(columns={0: \"entity\"})\n",
    "\n",
    "\n",
    "relation_embedding = pd.read_table(train_path/'relation_embedding.vec', header=None)\n",
    "relation_embedding['vector'] = relation_embedding.iloc[:,1:101].values.tolist()\n",
    "relation_embedding = relation_embedding[[0, 'vector']].rename(columns={0: \"relation\"})"
   ]
  },
  {
   "cell_type": "code",
   "execution_count": 21,
   "metadata": {},
   "outputs": [],
   "source": [
    "behavior['time'] = pd.to_datetime(behavior['time'], format = \"%m/%d/%Y %I:%M:%S %p\")"
   ]
  },
  {
   "cell_type": "code",
   "execution_count": 22,
   "metadata": {
    "tags": []
   },
   "outputs": [
    {
     "output_type": "stream",
     "name": "stdout",
     "text": "Time Min and Max : 2019-11-09 00:00:19 - 2019-11-14 23:59:13\n"
    }
   ],
   "source": [
    "print('Time Min and Max : {} - {}'.format(behavior['time'].min(), behavior['time'].max()))"
   ]
  },
  {
   "cell_type": "code",
   "execution_count": 23,
   "metadata": {},
   "outputs": [
    {
     "output_type": "execute_result",
     "data": {
      "text/plain": "       id   category      subcategory  \\\n0  N48100  lifestyle  lifestyleroyals   \n1  N54564     health       weightloss   \n2   N2942       news        newsworld   \n3  N14733     health           voices   \n4  N31455     health          medical   \n\n                                               title  \\\n0  The Brands Queen Elizabeth, Prince Charles, an...   \n1                      50 Worst Habits For Belly Fat   \n2  The Cost of Trump's Aid Freeze in the Trenches...   \n3  I Was An NBA Wife. Here's How It Affected My M...   \n4  How to Get Rid of Skin Tags, According to a De...   \n\n                                            abstract  \\\n0  Shop the notebooks, jackets, and more that the...   \n1  These seemingly harmless habits are holding yo...   \n2  Lt. Ivan Molchanets peeked over a parapet of s...   \n3  I felt like I was a fraud, and being an NBA wi...   \n4  They seem harmless, but there's a very good re...   \n\n                                                 url  \\\n0  https://www.msn.com/en-us/lifestyle/lifestyler...   \n1  https://www.msn.com/en-us/health/weightloss/50...   \n2  https://www.msn.com/en-us/news/world/the-cost-...   \n3  https://www.msn.com/en-us/health/voices/i-was-...   \n4  https://www.msn.com/en-us/health/medical/how-t...   \n\n                                      title_entities  \\\n0  [{\"Label\": \"Prince Philip, Duke of Edinburgh\",...   \n1  [{\"Label\": \"Adipose tissue\", \"Type\": \"C\", \"Wik...   \n2                                                 []   \n3                                                 []   \n4  [{\"Label\": \"Skin tag\", \"Type\": \"C\", \"WikidataI...   \n\n                                   abstract_entities  \n0                                                 []  \n1  [{\"Label\": \"Adipose tissue\", \"Type\": \"C\", \"Wik...  \n2  [{\"Label\": \"Ukraine\", \"Type\": \"G\", \"WikidataId...  \n3  [{\"Label\": \"National Basketball Association\", ...  \n4  [{\"Label\": \"Skin tag\", \"Type\": \"C\", \"WikidataI...  ",
      "text/html": "<div>\n<style scoped>\n    .dataframe tbody tr th:only-of-type {\n        vertical-align: middle;\n    }\n\n    .dataframe tbody tr th {\n        vertical-align: top;\n    }\n\n    .dataframe thead th {\n        text-align: right;\n    }\n</style>\n<table border=\"1\" class=\"dataframe\">\n  <thead>\n    <tr style=\"text-align: right;\">\n      <th></th>\n      <th>id</th>\n      <th>category</th>\n      <th>subcategory</th>\n      <th>title</th>\n      <th>abstract</th>\n      <th>url</th>\n      <th>title_entities</th>\n      <th>abstract_entities</th>\n    </tr>\n  </thead>\n  <tbody>\n    <tr>\n      <th>0</th>\n      <td>N48100</td>\n      <td>lifestyle</td>\n      <td>lifestyleroyals</td>\n      <td>The Brands Queen Elizabeth, Prince Charles, an...</td>\n      <td>Shop the notebooks, jackets, and more that the...</td>\n      <td>https://www.msn.com/en-us/lifestyle/lifestyler...</td>\n      <td>[{\"Label\": \"Prince Philip, Duke of Edinburgh\",...</td>\n      <td>[]</td>\n    </tr>\n    <tr>\n      <th>1</th>\n      <td>N54564</td>\n      <td>health</td>\n      <td>weightloss</td>\n      <td>50 Worst Habits For Belly Fat</td>\n      <td>These seemingly harmless habits are holding yo...</td>\n      <td>https://www.msn.com/en-us/health/weightloss/50...</td>\n      <td>[{\"Label\": \"Adipose tissue\", \"Type\": \"C\", \"Wik...</td>\n      <td>[{\"Label\": \"Adipose tissue\", \"Type\": \"C\", \"Wik...</td>\n    </tr>\n    <tr>\n      <th>2</th>\n      <td>N2942</td>\n      <td>news</td>\n      <td>newsworld</td>\n      <td>The Cost of Trump's Aid Freeze in the Trenches...</td>\n      <td>Lt. Ivan Molchanets peeked over a parapet of s...</td>\n      <td>https://www.msn.com/en-us/news/world/the-cost-...</td>\n      <td>[]</td>\n      <td>[{\"Label\": \"Ukraine\", \"Type\": \"G\", \"WikidataId...</td>\n    </tr>\n    <tr>\n      <th>3</th>\n      <td>N14733</td>\n      <td>health</td>\n      <td>voices</td>\n      <td>I Was An NBA Wife. Here's How It Affected My M...</td>\n      <td>I felt like I was a fraud, and being an NBA wi...</td>\n      <td>https://www.msn.com/en-us/health/voices/i-was-...</td>\n      <td>[]</td>\n      <td>[{\"Label\": \"National Basketball Association\", ...</td>\n    </tr>\n    <tr>\n      <th>4</th>\n      <td>N31455</td>\n      <td>health</td>\n      <td>medical</td>\n      <td>How to Get Rid of Skin Tags, According to a De...</td>\n      <td>They seem harmless, but there's a very good re...</td>\n      <td>https://www.msn.com/en-us/health/medical/how-t...</td>\n      <td>[{\"Label\": \"Skin tag\", \"Type\": \"C\", \"WikidataI...</td>\n      <td>[{\"Label\": \"Skin tag\", \"Type\": \"C\", \"WikidataI...</td>\n    </tr>\n  </tbody>\n</table>\n</div>"
     },
     "metadata": {},
     "execution_count": 23
    }
   ],
   "source": [
    "news.head()"
   ]
  }
 ],
 "metadata": {
  "kernelspec": {
   "display_name": "Python 3.8.3 64-bit ('mind': conda)",
   "language": "python",
   "name": "python_defaultSpec_1595967959190"
  },
  "language_info": {
   "codemirror_mode": {
    "name": "ipython",
    "version": 3
   },
   "file_extension": ".py",
   "mimetype": "text/x-python",
   "name": "python",
   "nbconvert_exporter": "python",
   "pygments_lexer": "ipython3",
   "version": "3.8.3-final"
  }
 },
 "nbformat": 4,
 "nbformat_minor": 4
}